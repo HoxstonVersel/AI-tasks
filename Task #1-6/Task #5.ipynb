{
 "cells": [
  {
   "cell_type": "code",
   "execution_count": 13,
   "metadata": {},
   "outputs": [],
   "source": [
    "%matplotlib inline\n",
    "import numpy as np\n",
    "import matplotlib.pyplot as plt"
   ]
  },
  {
   "cell_type": "code",
   "execution_count": 63,
   "metadata": {},
   "outputs": [],
   "source": [
    "betta=1\n",
    "ro=0.5\n",
    "\n",
    "FV=[]\n",
    "FV.append(fv1)\n",
    "FV.append(fv2)\n",
    "FV.append(fv3)\n",
    "fv1 =np.array([1,0,0,1,1,1,0,0,1])\n",
    "fv2 =np.array([1,0,0,1,1,1,0,1,1])\n",
    "fv3 =np.array([1,1,1,1,1,1,0,0,1])\n",
    "\n",
    "\n",
    "P=[] \n",
    "pv1=np.array([0,1,1,0,1,0,0,1,0])\n",
    "pv2=np.array([1,1,1,0,0,0,1,1,1])\n",
    "pv3=np.array([1,0,0,1,1,0,0,0,0])\n",
    "P.append(pv1)\n",
    "P.append(pv2)\n",
    "P.append(pv3)"
   ]
  },
  {
   "cell_type": "code",
   "execution_count": 64,
   "metadata": {},
   "outputs": [
    {
     "name": "stdout",
     "output_type": "stream",
     "text": [
      "True\n"
     ]
    }
   ],
   "source": [
    "def similarity(fv,pv,betta):\n",
    "    n=P[0].shape[0]\n",
    "    left=np.sum(fv*pv)/(betta+np.sum(pv))\n",
    "    rigth=np.sum(fv)/(betta+n)     \n",
    "    return left>rigth\n",
    "print(similarity(fv1,P[2],betta))"
   ]
  },
  {
   "cell_type": "code",
   "execution_count": 65,
   "metadata": {},
   "outputs": [
    {
     "name": "stdout",
     "output_type": "stream",
     "text": [
      "True\n"
     ]
    }
   ],
   "source": [
    "def vigilance(fv,pv,ro):\n",
    "    left=np.sum(fv*pv)/np.sum(fv)\n",
    "    return left>ro\n",
    "print(vigilance(fv1,P[2],ro))"
   ]
  },
  {
   "cell_type": "code",
   "execution_count": 66,
   "metadata": {},
   "outputs": [
    {
     "name": "stdout",
     "output_type": "stream",
     "text": [
      "False\n",
      "False\n",
      "True\n",
      "3\n",
      "P= [array([0, 1, 1, 0, 1, 0, 0, 1, 0]), array([1, 1, 1, 0, 0, 0, 1, 1, 1]), array([1, 0, 0, 1, 1, 0, 0, 0, 0])]\n",
      "HostCluster= [1 0 0 1 1 0 0 0 0]\n",
      "number= 3\n"
     ]
    }
   ],
   "source": [
    "def selectCluster(P,fv,betta,ro):\n",
    "    numberOfHostCluster=None\n",
    "    i = 0\n",
    "    change=False\n",
    "    for p in P:\n",
    "        i+=1\n",
    "        if similarity(fv,p,betta) and vigilance(fv,p,ro):\n",
    "            print('True')\n",
    "            print(i)\n",
    "            HostCluster =p\n",
    "            change=False\n",
    "        else:\n",
    "            print('False')\n",
    "            change=True\n",
    "            HostCluster=fv\n",
    "    if change:\n",
    "        np.append(P, HostCluster)\n",
    "        print(i)\n",
    "    \n",
    "    return P, HostCluster, i, change\n",
    "P,HostCluster,number, check=selectCluster(P,fv1,betta,ro)\n",
    "print('P=',P)\n",
    "print('HostCluster=',HostCluster)\n",
    "print('number=',number)"
   ]
  },
  {
   "cell_type": "code",
   "execution_count": 67,
   "metadata": {},
   "outputs": [],
   "source": [
    "#Ваши задачи таковы\n",
    "#обновить кластер и написать cicle для всех векторов объектов"
   ]
  },
  {
   "cell_type": "code",
   "execution_count": 68,
   "metadata": {},
   "outputs": [],
   "source": [
    "# Task1\n",
    "def renewCluster(fv,pv):\n",
    "    for i in range(len(pv)):\n",
    "        pv[i] = pv[i] * fv[i]\n",
    "#         print('{0}*{1}={2}'.format(pv[i], fv[i], pv[i]*fv[i]))\n",
    "    return pv"
   ]
  },
  {
   "cell_type": "code",
   "execution_count": 69,
   "metadata": {
    "scrolled": false
   },
   "outputs": [
    {
     "name": "stdout",
     "output_type": "stream",
     "text": [
      "fv= [1 0 0 1 1 1 0 0 1] \n",
      "\n",
      "False\n",
      "False\n",
      "True\n",
      "3\n",
      "[array([0, 1, 1, 0, 1, 0, 0, 1, 0]), array([1, 1, 1, 0, 0, 0, 1, 1, 1]), array([1, 0, 0, 1, 1, 0, 0, 0, 0])] \n",
      "\n",
      "renew\n",
      "[1 0 0 1 1 0 0 0 0]\n",
      "[1 0 0 1 1 1 0 0 1]\n",
      "[1 0 0 1 1 0 0 0 0]\n",
      "New Cluster[2]=[1 0 0 1 1 0 0 0 0]\n",
      "\n",
      "fv= [1 0 0 1 1 1 0 1 1] \n",
      "\n",
      "False\n",
      "False\n",
      "False\n",
      "3\n",
      "[array([0, 1, 1, 0, 1, 0, 0, 1, 0]), array([1, 1, 1, 0, 0, 0, 1, 1, 1]), array([1, 0, 0, 1, 1, 0, 0, 0, 0])] \n",
      "\n",
      "fv= [1 1 1 1 1 1 0 0 1] \n",
      "\n",
      "False\n",
      "False\n",
      "False\n",
      "3\n",
      "[array([0, 1, 1, 0, 1, 0, 0, 1, 0]), array([1, 1, 1, 0, 0, 0, 1, 1, 1]), array([1, 0, 0, 1, 1, 0, 0, 0, 0])] \n",
      "\n"
     ]
    }
   ],
   "source": [
    "newClusters = []\n",
    "for fv in FV:\n",
    "    print('fv=', fv, '\\n')\n",
    "    P1, HostCluster, number, check = selectCluster(P,fv,betta,ro)\n",
    "    HostCluster = renewCluster(fv, HostCluster)\n",
    "    newClusters.append(HostCluster)\n",
    "    print(P, '\\n')\n",
    "    if(check == False):\n",
    "        print('renew')\n",
    "        print(HostCluster)\n",
    "        print(fv)\n",
    "        print(np.array(HostCluster))\n",
    "        print('New Cluster[{0}]={1}\\n'.format(number-1, P[number-1]))"
   ]
  },
  {
   "cell_type": "code",
   "execution_count": 70,
   "metadata": {},
   "outputs": [
    {
     "name": "stdout",
     "output_type": "stream",
     "text": [
      "[1 0 0 1 1 0 0 0 0] \n",
      "\n",
      "[1 0 0 1 1 1 0 1 1] \n",
      "\n",
      "[1 1 1 1 1 1 0 0 1] \n",
      "\n"
     ]
    }
   ],
   "source": [
    "### Результат ###\n",
    "for propVect in newClusters:\n",
    "    print(propVect, '\\n')"
   ]
  },
  {
   "cell_type": "code",
   "execution_count": null,
   "metadata": {},
   "outputs": [],
   "source": []
  }
 ],
 "metadata": {
  "kernelspec": {
   "display_name": "Python 3",
   "language": "python",
   "name": "python3"
  },
  "language_info": {
   "codemirror_mode": {
    "name": "ipython",
    "version": 3
   },
   "file_extension": ".py",
   "mimetype": "text/x-python",
   "name": "python",
   "nbconvert_exporter": "python",
   "pygments_lexer": "ipython3",
   "version": "3.8.5"
  }
 },
 "nbformat": 4,
 "nbformat_minor": 5
}
