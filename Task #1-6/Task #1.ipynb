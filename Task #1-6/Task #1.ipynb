{
 "cells": [
  {
   "cell_type": "code",
   "execution_count": 27,
   "metadata": {},
   "outputs": [
    {
     "name": "stdout",
     "output_type": "stream",
     "text": [
      "[[3 5]\n",
      " [7 9]]\n"
     ]
    }
   ],
   "source": [
    "##Task 1\n",
    "import numpy as np \n",
    "\n",
    "result = np.array([[1, 2], [3, 4]]) \n",
    "print(result *2 + 1)"
   ]
  },
  {
   "cell_type": "code",
   "execution_count": 28,
   "metadata": {},
   "outputs": [
    {
     "name": "stdout",
     "output_type": "stream",
     "text": [
      "[[2 4]\n",
      " [6 8]]\n",
      "[[0 0]\n",
      " [0 0]]\n"
     ]
    }
   ],
   "source": [
    "##Task 2\n",
    "\n",
    "first = np.array([2,4])\n",
    "second= np.array([6,8])\n",
    "\n",
    "result = np.array([first,second])\n",
    "print(result)\n",
    "\n",
    "result2 = okmatrix - okmatrix\n",
    "print(result2)"
   ]
  },
  {
   "cell_type": "code",
   "execution_count": 9,
   "metadata": {},
   "outputs": [
    {
     "name": "stdout",
     "output_type": "stream",
     "text": [
      "[[ 1  4]\n",
      " [ 9 16]]\n"
     ]
    }
   ],
   "source": [
    "##Task 3\n",
    "first = np.array([1,2])\n",
    "second= np.array([3,4])\n",
    "\n",
    "result = np.array([first,second])\n",
    "print(result**2)"
   ]
  },
  {
   "cell_type": "code",
   "execution_count": 22,
   "metadata": {},
   "outputs": [
    {
     "name": "stdout",
     "output_type": "stream",
     "text": [
      "5.477225575051661\n",
      "5.477225575051661\n"
     ]
    }
   ],
   "source": [
    "##Task 4\n",
    "## аналитическое нормирование \n",
    "norm1 = np.linalg.norm(np.array([1, 2, 3, 4]))\n",
    "nparray2 = np.array([[1, 2], [3, 4]]) \n",
    "norm2 = np.linalg.norm(nparray2)\n",
    "\n",
    "print(norm1)\n",
    "print(norm2)"
   ]
  },
  {
   "cell_type": "code",
   "execution_count": 11,
   "metadata": {},
   "outputs": [
    {
     "name": "stdout",
     "output_type": "stream",
     "text": [
      "[3.74165739 3.74165739]\n",
      "[1.41421356 2.82842712 4.24264069]\n"
     ]
    }
   ],
   "source": [
    "##Task 5\n",
    "nparray = np.array([[1, 1], [2, 2], [3, 3]])\n",
    "\n",
    "normByCols = np.linalg.norm(nparray, axis = 0) \n",
    "normByRows = np.linalg.norm(nparray, axis = 1)\n",
    "\n",
    "print(normByCols)\n",
    "print(normByRows)"
   ]
  },
  {
   "cell_type": "code",
   "execution_count": 12,
   "metadata": {},
   "outputs": [
    {
     "name": "stdout",
     "output_type": "stream",
     "text": [
      "38\n",
      "38\n",
      "38\n",
      "38\n"
     ]
    }
   ],
   "source": [
    "##Task 6\n",
    "nparray1 = np.array([0, 1, 2, 3]) \n",
    "nparray2 = np.array([4, 5, 6, 7]) \n",
    "\n",
    "flavor1 = np.dot(nparray1,nparray2)\n",
    "print(flavor1)\n",
    "\n",
    "flavor2 = np.sum(nparray1 * nparray2)\n",
    "print(flavor2)\n",
    "\n",
    "flavor3 = nparray1 @ nparray2         \n",
    "print(flavor3)\n",
    "\n",
    "\n",
    "flavor4 = 0\n",
    "for a, b in zip(nparray1, nparray2):\n",
    "    flavor4 += a*b\n",
    "    \n",
    "print(flavor4)"
   ]
  },
  {
   "cell_type": "code",
   "execution_count": 13,
   "metadata": {},
   "outputs": [
    {
     "name": "stdout",
     "output_type": "stream",
     "text": [
      "Sum by columns: \n",
      "[ 6 -6]\n",
      "Sum by rows:\n",
      "[0 0 0]\n"
     ]
    }
   ],
   "source": [
    "##Task 7\n",
    "nparray2 = np.array([[1, -1], [2, -2], [3, -3]])\n",
    "\n",
    "sumByCols = np.sum(nparray2, axis = 0) \n",
    "sumByRows = np.sum(nparray2, axis = 1)  \n",
    " \n",
    "print('Sum by columns: ')\n",
    "print(sumByCols)\n",
    "print('Sum by rows:')\n",
    "print(sumByRows)"
   ]
  },
  {
   "cell_type": "code",
   "execution_count": 14,
   "metadata": {},
   "outputs": [
    {
     "name": "stdout",
     "output_type": "stream",
     "text": [
      "Matrix mean: \n",
      "0.0\n",
      "Mean by columns: \n",
      "[ 2. -2.]\n",
      "Mean by rows:\n",
      "[0. 0. 0.]\n"
     ]
    }
   ],
   "source": [
    "##Task 8\n",
    "nparray2 = np.array([[1, -1], [2, -2], [3, -3]]) \n",
    "\n",
    "\n",
    "mean = np.mean(nparray2)    \n",
    "meanByCols =np.mean(nparray2, axis = 0)   \n",
    "meanByRows = np.mean(nparray2, axis = 1)    \n",
    " \n",
    "print('Matrix mean: ')\n",
    "print(mean) \n",
    "print('Mean by columns: ')\n",
    "print(meanByCols)\n",
    "print('Mean by rows:')\n",
    "print(meanByRows) "
   ]
  },
  {
   "cell_type": "code",
   "execution_count": 15,
   "metadata": {},
   "outputs": [
    {
     "name": "stdout",
     "output_type": "stream",
     "text": [
      "Original matrix\n",
      "[[1 1]\n",
      " [2 2]\n",
      " [3 3]]\n",
      "Centered by columns matrix\n",
      "[[-1. -1.]\n",
      " [ 0.  0.]\n",
      " [ 1.  1.]]\n",
      "New mean by column\n",
      "[0. 0.]\n"
     ]
    }
   ],
   "source": [
    "##Task 9\n",
    "nparray2 = np.array([[1, 1], [2, 2], [3, 3]])\n",
    "\n",
    "nparrayCentered = nparray2 - np.mean(nparray2, axis = 0) \n",
    "\n",
    "\n",
    "print('Original matrix')\n",
    "print(nparray2)\n",
    "print('Centered by columns matrix')\n",
    "print(nparrayCentered)\n",
    "\n",
    "print('New mean by column')\n",
    "print(nparrayCentered.mean(axis=0))\n"
   ]
  },
  {
   "cell_type": "code",
   "execution_count": 16,
   "metadata": {},
   "outputs": [
    {
     "name": "stdout",
     "output_type": "stream",
     "text": [
      "Original matrix\n",
      "[[1 3]\n",
      " [2 4]\n",
      " [3 5]]\n",
      "Centered by columns matrix\n",
      "[[-1.  1.]\n",
      " [-1.  1.]\n",
      " [-1.  1.]]\n",
      "New mean by rows\n",
      "[0. 0. 0.]\n"
     ]
    }
   ],
   "source": [
    "##Task 10\n",
    "nparray2 = np.array([[1 ,3], [2 ,4], [3 ,5]]) \n",
    "nparrayCentered = nparray2 - np.mean(nparray2, axis=1, keepdims = True)\n",
    "nparrayCentered = nparrayCentered.T \n",
    "\n",
    "print('Original matrix')\n",
    "print(nparray2)\n",
    "print('Centered by columns matrix')\n",
    "print(nparrayCentered.T)\n",
    "\n",
    "print('New mean by rows')\n",
    "print(nparrayCentered.mean(axis=0))"
   ]
  }
 ],
 "metadata": {
  "kernelspec": {
   "display_name": "Python 3",
   "language": "python",
   "name": "python3"
  },
  "language_info": {
   "codemirror_mode": {
    "name": "ipython",
    "version": 3
   },
   "file_extension": ".py",
   "mimetype": "text/x-python",
   "name": "python",
   "nbconvert_exporter": "python",
   "pygments_lexer": "ipython3",
   "version": "3.8.5"
  }
 },
 "nbformat": 4,
 "nbformat_minor": 4
}
